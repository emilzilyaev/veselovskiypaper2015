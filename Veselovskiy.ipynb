{
  "nbformat": 4,
  "nbformat_minor": 0,
  "metadata": {
    "colab": {
      "name": "Veselovskiy.ipynb",
      "provenance": [],
      "collapsed_sections": [],
      "include_colab_link": true
    },
    "kernelspec": {
      "name": "python3",
      "display_name": "Python 3"
    },
    "language_info": {
      "name": "python"
    }
  },
  "cells": [
    {
      "cell_type": "markdown",
      "metadata": {
        "id": "view-in-github",
        "colab_type": "text"
      },
      "source": [
        "<a href=\"https://colab.research.google.com/github/emilziyaev/veselovskiypaper2015/blob/main/Veselovskiy.ipynb\" target=\"_parent\"><img src=\"https://colab.research.google.com/assets/colab-badge.svg\" alt=\"Open In Colab\"/></a>"
      ]
    },
    {
      "cell_type": "markdown",
      "metadata": {
        "id": "dze1MJFOCNdK"
      },
      "source": [
        "Зависимость для треугольных импульсов\n"
      ]
    },
    {
      "cell_type": "code",
      "metadata": {
        "id": "EpURIqTLEjrM"
      },
      "source": [
        "from scipy.optimize import root\n",
        "import numpy as np\n",
        "from numpy import pi\n",
        "import matplotlib.pyplot as plt"
      ],
      "execution_count": null,
      "outputs": []
    },
    {
      "cell_type": "code",
      "metadata": {
        "id": "gbppu7MZH1Ix"
      },
      "source": [
        "import math as mt"
      ],
      "execution_count": null,
      "outputs": []
    },
    {
      "cell_type": "code",
      "metadata": {
        "colab": {
          "base_uri": "https://localhost:8080/"
        },
        "id": "6SeVZgo1ITas",
        "outputId": "3b21b701-7d87-4107-bec7-7bab350cda19"
      },
      "source": [
        "mt.pi"
      ],
      "execution_count": null,
      "outputs": [
        {
          "output_type": "execute_result",
          "data": {
            "text/plain": [
              "3.141592653589793"
            ]
          },
          "metadata": {},
          "execution_count": 3
        }
      ]
    },
    {
      "cell_type": "code",
      "metadata": {
        "colab": {
          "base_uri": "https://localhost:8080/"
        },
        "id": "1dc6xie6G8tY",
        "outputId": "6855f1d7-620a-48a8-d6c4-8cb04aa55ce8"
      },
      "source": [
        "def f(x):\n",
        "    return U_c*np.sin(x) + U_t/2*np.cos(12*x) - U_t/2\n",
        "\n",
        "\n",
        "U_t = float(input('U_t = '))\n",
        "U_c = float(input('U_c = '))\n",
        "\n",
        "a = mt.pi/12\n",
        "\n",
        "solutions = []\n",
        "K = 100\n",
        "A = [0] * K\n",
        "b = 0.0100000000001"
      ],
      "execution_count": null,
      "outputs": [
        {
          "name": "stdout",
          "output_type": "stream",
          "text": [
            "U_t = 1\n",
            "U_c = 1.5\n"
          ]
        }
      ]
    },
    {
      "cell_type": "code",
      "metadata": {
        "id": "mdMlp7stHFrV"
      },
      "source": [
        "for k in range(1, K):\n",
        "    A[k] = A[k-1] + b\n",
        "\n",
        "for j in A:\n",
        "    y = root(f, j)\n",
        "    if y.success and (round(y.x[0], 8) not in solutions):\n",
        "        solutions.append(round(y.x[0], 8))\n",
        "\n",
        "solutions = sorted(solutions)\n",
        "i = 0\n",
        "while solutions[i] < 0:\n",
        "    del solutions[i]\n",
        "\n",
        "i = len(solutions)-1"
      ],
      "execution_count": null,
      "outputs": []
    },
    {
      "cell_type": "code",
      "metadata": {
        "colab": {
          "base_uri": "https://localhost:8080/"
        },
        "id": "6AqEEZgeHOvV",
        "outputId": "74dc3e59-c663-4a03-e9ee-197b2e3bc5d7"
      },
      "source": [
        "while solutions[i] > pi or solutions[i] > pi/2:\n",
        "    del solutions[i]\n",
        "    i -= 1\n",
        "\n",
        "if U_c/U_t == 1:\n",
        "    solutions += [1.272, 1.338]\n",
        "\n",
        "L = len(solutions)\n",
        "solutions += [0] * (12 - len(solutions))\n",
        "\n",
        "k = 1\n",
        "for i in range(L, len(solutions)):\n",
        "    solutions[i] = pi - solutions[i-k]\n",
        "    k += 2\n",
        "\n",
        "solutions += [pi]\n",
        "\n",
        "print(solutions, '\\n',\n",
        "      'массив координат по оси ОХ пересечений 2х графиков при модуляции')"
      ],
      "execution_count": null,
      "outputs": [
        {
          "output_type": "stream",
          "name": "stdout",
          "text": [
            "[0.0, 0.04257194, 0.38266065, 2.758932003589793, 3.099020713589793, 3.141592653589793, 3.141592653589793, 3.141592653589793, 3.141592653589793, 0.0, 0.0, 0.0, 3.141592653589793] \n",
            " массив координат по оси ОХ пересечений 2х графиков при модуляции\n"
          ]
        }
      ]
    },
    {
      "cell_type": "code",
      "metadata": {
        "colab": {
          "base_uri": "https://localhost:8080/",
          "height": 317
        },
        "id": "lFeK0yyJHPgy",
        "outputId": "bd5f1b92-4439-45a7-aa98-982892198590"
      },
      "source": [
        "plt.ticklabel_format(useOffset=False)\n",
        "\n",
        "U_1 = [0]*(len(solutions)-2)\n",
        "for i in range(0, len(solutions)-2, 2):\n",
        "    U_1[i] = solutions[i+1] - solutions[i]\n",
        "\n",
        "U_0 = solutions[2]\n",
        "\n",
        "U_avg_pl = 0\n",
        "for i in range(len(U_1)):\n",
        "    U_avg_pl += U_0 * U_1[i] / pi\n",
        "\n",
        "U_2 = [0]*(len(solutions)-2)\n",
        "for i in range(1, len(solutions)-1, 2):\n",
        "    U_2[i-1] = solutions[i+1] - solutions[i]\n",
        "\n",
        "U_avg_mn = 0\n",
        "for i in range(len(U_2)):\n",
        "    U_avg_mn += U_0 * U_2[i] / pi\n",
        "\n",
        "print(U_0, 'U_0\\n', U_avg_pl, 'U Среднее +\\n', U_avg_mn, 'U Среднее -')\n",
        "\n",
        "y = [U_avg_pl/U_0-0.1, U_avg_pl/U_0+0.1]\n",
        "x = [U_c/U_t-0.1, U_c/U_t+0.1]\n",
        "plt.plot(x, y)\n",
        "plt.show()"
      ],
      "execution_count": null,
      "outputs": [
        {
          "output_type": "stream",
          "name": "stdout",
          "text": [
            "0.43094661 U_0\n",
            " 0.18105120721430246 U Среднее +\n",
            " 0.24989540278569755 U Среднее -\n"
          ]
        },
        {
          "output_type": "display_data",
          "data": {
            "image/png": "[encoded data removed]",
            "text/plain": [
              "<Figure size 432x288 with 1 Axes>"
            ]
          },
          "metadata": {
            "needs_background": "light"
          }
        }
      ]
    },
    {
      "cell_type": "code",
      "metadata": {
        "id": "-U7MRsSFI53j",
        "colab": {
          "base_uri": "https://localhost:8080/",
          "height": 404
        },
        "outputId": "315eafdc-9bec-44d6-b6e9-65d48a868a1d"
      },
      "source": [
        "from scipy.optimize import root\n",
        "import numpy as np\n",
        "from numpy import pi\n",
        "import matplotlib.pyplot as plt\n",
        "\n",
        "\n",
        "N = 12\n",
        "B = [0]*N\n",
        "\n",
        "for i in range(1, N):\n",
        "    if B[i-1] <= 0:\n",
        "        B[i] = abs(B[i-1])+2\n",
        "    else:\n",
        "        B[i] = -abs(B[i-1])\n",
        "\n",
        "U_t = float(input('U_t = '))\n",
        "U_c = float(input('U_c = '))\n",
        "x_0 = pi/6\n",
        "\n",
        "Const_K = U_t/x_0\n",
        "print(Const_K)\n",
        "\n",
        "K = [0] * N\n",
        "for i in range(N):\n",
        "    if i % 2 == 0:\n",
        "        K[i] = Const_K\n",
        "    else:\n",
        "        K[i] = -Const_K\n",
        "\n",
        "range_x = np.linspace(-7, 7)\n",
        "#print(K, '\\n', B)\n",
        "\n",
        "def f(x):\n",
        "    return k*x + m - np.sin(x)\n",
        "\n",
        "def sin_x():\n",
        "    for i in range_x:\n",
        "        solutions = []\n",
        "        b = i\n",
        "        c = abs(int(round(i)))\n",
        "        for j in range(-c, c+1):\n",
        "            y = root(f, j)\n",
        "            if y.success and (round(y.x[0], 8) not in solutions) and len(solutions) == 0:\n",
        "                solutions.append(round(y.x[0], 8))\n",
        "\n",
        "    return solutions[0]\n",
        "\n",
        "\n",
        "A = []\n",
        "for i in range(N):\n",
        "    k = K[i]\n",
        "    m = B[i]\n",
        "    A.append(sin_x())\n",
        "\n",
        "print(A, '\\n',\n",
        "      'массив координат по оси ОХ пересечений 2х графиков при модуляции')\n",
        "\n",
        "U = [0]*N\n",
        "U_0 = A[1]\n",
        "for i in range(1, len(A)):\n",
        "    U[i] = abs(A[i] - A[i-1])\n",
        "\n",
        "U_avg_pl = U_0 - U_0*U_c*2/(pi*U_t)\n",
        "U_avg_mn = U_0*U_c*2/(pi*U_t)\n",
        "\n",
        "print(U_0, 'U_0\\n', U_avg_pl, 'U Среднее +\\n', U_avg_mn, 'U Среднее -')\n",
        "\n",
        "k_1 = U_avg_pl/U_0\n",
        "k_2 = U_avg_mn/U_0\n",
        "\n",
        "y1 = [0, k_1/(k_1+k_2), k_1*1.5]\n",
        "y2 = [1, k_1/(k_1+k_2), 1-k_2*1.5]\n",
        "\n",
        "x = [0, 1/(k_1 + k_2)*pi/4, 1.5*pi/4]\n",
        "plt.plot(x, y1)\n",
        "plt.plot(x, y2)\n",
        "plt.show()"
      ],
      "execution_count": null,
      "outputs": [
        {
          "output_type": "stream",
          "name": "stdout",
          "text": [
            "U_t = 1.5\n",
            "U_c = 1\n",
            "2.8647889756541165\n",
            "[0.0, 0.52359878, 0.9899503, 1.08722191, 1.74032517, 1.75098037, 2.34417159, 2.61799388, 2.88209528, 3.66519143, 3.40109003, 4.53220493] \n",
            " массив координат по оси ОХ пересечений 2х графиков при модуляции\n",
            "0.52359878 U_0\n",
            " 0.3013765559096378 U Среднее +\n",
            " 0.22222222409036224 U Среднее -\n"
          ]
        },
        {
          "output_type": "display_data",
          "data": {
            "image/png": "[encoded data removed]",
            "text/plain": [
              "<Figure size 432x288 with 1 Axes>"
            ]
          },
          "metadata": {
            "needs_background": "light"
          }
        }
      ]
    },
    {
      "cell_type": "code",
      "metadata": {
        "colab": {
          "base_uri": "https://localhost:8080/",
          "height": 441
        },
        "id": "OI3l_nYCbndu",
        "outputId": "7b30906f-095d-4991-819c-24eeef9701fb"
      },
      "source": [
        "from scipy.optimize import root\n",
        "import numpy as np\n",
        "from numpy import pi\n",
        "import matplotlib.pyplot as plt\n",
        "\n",
        "U_t = float(input('U_t = '))\n",
        "U_c = float(input('U_c = '))\n",
        "x_0 = pi/6\n",
        "\n",
        "N = 12 #количество точек x по оси абсцисс \n",
        "B = [0]*N\n",
        "m = 2\n",
        "\n",
        "for i in range(1, N):\n",
        "    if i % 2 != 0:\n",
        "        B[i] = m*U_t\n",
        "    else:\n",
        "        B[i] = -m*U_t\n",
        "        m += 2\n",
        "\n",
        "Const_K = 12*U_t/pi\n",
        "\n",
        "#print(Const_K)\n",
        "\n",
        "K = [0] * N\n",
        "for i in range(N):\n",
        "    if i % 2 == 0:\n",
        "        K[i] = Const_K\n",
        "    else:\n",
        "        K[i] = -Const_K\n",
        "\n",
        "range_x = np.linspace(-7, 7)\n",
        "print(K, '\\n', B)\n",
        "\n",
        "def f(x):\n",
        "    return k*x + m - np.sin(x)\n",
        "\n",
        "def sin_x():\n",
        "    for i in range_x:\n",
        "        solutions = []\n",
        "        b = i\n",
        "        c = abs(int(round(i)))\n",
        "        for j in range(-c, c+1):\n",
        "            y = root(f, j)\n",
        "            if y.success and (round(y.x[0], 8) not in solutions) and len(solutions) == 0:\n",
        "                solutions.append(round(y.x[0], 8))\n",
        "\n",
        "    return solutions[0]\n",
        "\n",
        "\n",
        "A = []\n",
        "for i in range(N):\n",
        "    k = K[i]\n",
        "    m = B[i]\n",
        "    A.append(sin_x())\n",
        "\n",
        "print(A, '\\n',\n",
        "      'массив координат по оси ОХ пересечений 2х графиков при модуляции')\n",
        "\n",
        "U = [0]*N\n",
        "U_0 = A[1]\n",
        "for i in range(1, len(A)):\n",
        "    U[i] = abs(A[i] - A[i-1])\n",
        "\n",
        "U_avg_pl = U_0 - U_0*U_c*2/(pi*U_t)\n",
        "U_avg_mn = U_0*U_c*2/(pi*U_t)\n",
        "\n",
        "print(U_0, 'U_0\\n', U_avg_pl, 'U Среднее +\\n', U_avg_mn, 'U Среднее -')\n",
        "\n",
        "k_1 = U_avg_pl/U_0\n",
        "k_2 = U_avg_mn/U_0\n",
        "\n",
        "y1 = [0, k_1/(k_1+k_2), k_1*1.5]\n",
        "y2 = [1, k_1/(k_1+k_2), 1-k_2*1.5]\n",
        "\n",
        "x = [0, 1/(k_1 + k_2)*pi/4, 1.5*pi/4]\n",
        "plt.plot(x, y1)\n",
        "plt.plot(x, y2)\n",
        "plt.show()"
      ],
      "execution_count": null,
      "outputs": [
        {
          "output_type": "stream",
          "name": "stdout",
          "text": [
            "U_t = 1.5\n",
            "U_c = 1\n",
            "[5.729577951308232, -5.729577951308232, 5.729577951308232, -5.729577951308232, 5.729577951308232, -5.729577951308232, 5.729577951308232, -5.729577951308232, 5.729577951308232, -5.729577951308232, 5.729577951308232, -5.729577951308232] \n",
            " [0, 3.0, -3.0, 6.0, -6.0, 9.0, -9.0, 12.0, -12.0, 15.0, -15.0, 18.0]\n",
            "[0.0, 0.44799778, 0.62583577, 0.90946092, 1.21052572, 1.3988375, 1.74275515, 1.93106694, 2.23213173, 2.51575688, 2.69359487, 3.14159265] \n",
            " массив координат по оси ОХ пересечений 2х графиков при модуляции\n",
            "0.44799778 U_0\n",
            " 0.25786161685014547 U Среднее +\n",
            " 0.19013616314985454 U Среднее -\n"
          ]
        },
        {
          "output_type": "display_data",
          "data": {
            "image/png": "[encoded data removed]",
            "text/plain": [
              "<Figure size 432x288 with 1 Axes>"
            ]
          },
          "metadata": {
            "needs_background": "light"
          }
        }
      ]
    },
    {
      "cell_type": "markdown",
      "metadata": {
        "id": "DlcvKbMnJU0Y"
      },
      "source": [
        "Зависимость для трапецивидных импульсов\n",
        "\n"
      ]
    },
    {
      "cell_type": "code",
      "metadata": {
        "colab": {
          "base_uri": "https://localhost:8080/",
          "height": 458
        },
        "id": "bv_KA_Td8o3J",
        "outputId": "f72cbb4c-0805-4715-f5e4-5cc3aabf6c63"
      },
      "source": [
        "from scipy.optimize import root\n",
        "import numpy as np\n",
        "from numpy import pi\n",
        "import matplotlib.pyplot as plt\n",
        "\n",
        "\n",
        "H_trap = float(input('H_trap = ')) #высота трапеции\n",
        "l_trap = float(input('l_trap (<pi/6) = ')) #длина короткого основания \n",
        "U_c = float(input('U_c = '))\n",
        "\n",
        "x_0 = pi/6\n",
        "\n",
        "\n",
        "base_h = pi/12 #половина основания трапеции\n",
        "diff = abs(pi/12-l_trap/2)\n",
        "zn = 1 - (l_trap/x_0/2)\n",
        "U_t = H_trap/zn\n",
        "\n",
        "\n",
        "N = 12\n",
        "B = [0]*N\n",
        "m = 2\n",
        "#y = Kx + B\n",
        "#нахождение B\n",
        "for i in range(1, N):\n",
        "    if i % 2 != 0:\n",
        "        B[i] = m*U_t #если B четный, то B > 0\n",
        "    else:\n",
        "        B[i] = -m*U_t #иначе B < 0\n",
        "        m += 2\n",
        "\n",
        "Const_K = 12*U_t/pi\n",
        "\n",
        "#print(Const_K)\n",
        "\n",
        "K = [0] * N\n",
        "for i in range(N):\n",
        "    if i % 2 == 0:\n",
        "        K[i] = Const_K  #если K четный, то K > 0\n",
        "    else:\n",
        "        K[i] = -Const_K #иначе K < 0\n",
        "\n",
        "range_x = np.linspace(-7, 7)\n",
        "print(K, '\\n', B)\n",
        "\n",
        "def f(x):\n",
        "    return k*x + m - np.sin(x)\n",
        "\n",
        "def sin_x():\n",
        "    #функция решения уравнения методом \n",
        "    \n",
        "    #перебор всех значений на отрезке [-7, 7]  (заполнен рациональными числами)\n",
        "    for i in range_x:\n",
        "        solutions = []\n",
        "        c = abs(int(round(i)))\n",
        "\n",
        "        #\n",
        "        for j in range(-c, c+1):\n",
        "\n",
        "            y = root(f, j)\n",
        "            if y.success and (round(y.x[0], 8) not in solutions) and len(solutions) == 0:\n",
        "                solutions.append(round(y.x[0], 8))\n",
        "\n",
        "    return solutions[0]\n",
        "\n",
        "\n",
        "A = []\n",
        "for i in range(N):\n",
        "    k = K[i]\n",
        "    m = B[i]\n",
        "    A.append(sin_x()) #нахождение абсцисс точек пересечения\n",
        "\n",
        "print(A, '\\n',\n",
        "      'A массив координат по оси ОХ пересечений 2х графиков при модуляции')\n",
        "\n",
        "U = [0]*N \n",
        "U_0 = A[1]\n",
        "for i in range(1, len(A)):\n",
        "    U[i] = abs(A[i] - A[i-1]) #нахождение отрезков между точками пересечений\n",
        "\n",
        "U_avg_pl = U_0 - U_0*U_c*2/(pi*U_t)\n",
        "U_avg_mn = U_0*U_c*2/(pi*U_t)\n",
        "\n",
        "print(U_0, 'U_0\\n', U_avg_pl, 'U Среднее +\\n', U_avg_mn, 'U Среднее -')\n",
        "\n",
        "k_1 = U_avg_pl/U_0\n",
        "k_2 = U_avg_mn/U_0\n",
        "\n",
        "y1 = [0, k_1/(k_1+k_2), k_1*1.5]\n",
        "y2 = [1, k_1/(k_1+k_2), 1-k_2*1.5]\n",
        "# y1 = [0, k_1, k_1*1.5]\n",
        "# y2 = [1, k_2, 1-k_2*1.5]\n",
        "\n",
        "x = [0, 1/(k_1 + k_2)*pi/4, 1.5*pi/4]\n",
        "\n",
        "plt.plot(x, y1)\n",
        "plt.plot(x, y2)\n",
        "plt.show()"
      ],
      "execution_count": null,
      "outputs": [
        {
          "output_type": "stream",
          "name": "stdout",
          "text": [
            "H_trap = 1.5\n",
            "l_trap (<pi/6) = 0.1\n",
            "U_c = 1\n",
            "[6.334475836028273, -6.334475836028273, 6.334475836028273, -6.334475836028273, 6.334475836028273, -6.334475836028273, 6.334475836028273, -6.334475836028273, 6.334475836028273, -6.334475836028273, 6.334475836028273, -6.334475836028273] \n",
            " [0, 3.316723791801414, -3.316723791801414, 6.633447583602828, -6.633447583602828, 9.950171375404242, -9.950171375404242, 13.266895167205655, -13.266895167205655, 16.58361895900707, -16.58361895900707, 19.900342750808484]\n",
            "[0.0, 0.45431908, 0.61463384, 0.92145945, 1.19398854, 1.41484588, 1.72674678, 1.94760412, 2.2201332, 2.52695881, 2.68727358, 3.14159265] \n",
            " A массив координат по оси ОХ пересечений 2х графиков при модуляции\n",
            "0.45431908 U_0\n",
            " 0.2799129325801932 U Среднее +\n",
            " 0.1744061474198068 U Среднее -\n"
          ]
        },
        {
          "output_type": "display_data",
          "data": {
            "image/png": "[encoded data removed]",
            "text/plain": [
              "<Figure size 432x288 with 1 Axes>"
            ]
          },
          "metadata": {
            "needs_background": "light"
          }
        }
      ]
    },
    {
      "cell_type": "markdown",
      "source": [
        "График по нескольким точкам\n"
      ],
      "metadata": {
        "id": "TjmO8I084H8b"
      }
    },
    {
      "cell_type": "code",
      "source": [
        "from scipy.optimize import root\n",
        "import numpy as np\n",
        "from numpy import pi\n",
        "import matplotlib.pyplot as plt\n",
        "\n",
        "\n",
        "H_trap = float(input('H_trap = ')) #высота трапеции\n",
        "l_trap = float(input('l_trap (<pi/6) = ')) #длина короткого основания \n",
        "U_c = float(input('U_c = '))\n",
        "\n",
        "x_0 = pi/6\n",
        "\n",
        "\n",
        "base_h = pi/12 #половина основания трапеции\n",
        "diff = abs(pi/12-l_trap/2)\n",
        "zn = 1 - (l_trap/x_0/2)\n",
        "U_t = H_trap/zn\n",
        "\n",
        "\n",
        "N = 12\n",
        "B = [0]*N\n",
        "m = 2\n",
        "#y = Kx + B\n",
        "#нахождение B\n",
        "for i in range(1, N):\n",
        "    if i % 2 != 0:\n",
        "        B[i] = m*U_t #если B четный, то B > 0\n",
        "    else:\n",
        "        B[i] = -m*U_t #иначе B < 0\n",
        "        m += 2\n",
        "\n",
        "Const_K = 12*U_t/pi\n",
        "\n",
        "#print(Const_K)\n",
        "\n",
        "K = [0] * N\n",
        "for i in range(N):\n",
        "    if i % 2 == 0:\n",
        "        K[i] = Const_K  #если K четный, то K > 0\n",
        "    else:\n",
        "        K[i] = -Const_K #иначе K < 0\n",
        "\n",
        "range_x = np.linspace(-7, 7)\n",
        "print(K, '\\n', B)\n",
        "\n",
        "def f(x):\n",
        "    return k*x + m - np.sin(x)\n",
        "\n",
        "def sin_x():\n",
        "    #функция решения уравнения методом \n",
        "    \n",
        "    #перебор всех значений на отрезке [-7, 7]  (заполнен рациональными числами)\n",
        "    for i in range_x:\n",
        "        solutions = []\n",
        "        c = abs(int(round(i)))\n",
        "\n",
        "        #\n",
        "        for j in range(-c, c+1):\n",
        "\n",
        "            y = root(f, j)\n",
        "            if y.success and (round(y.x[0], 8) not in solutions) and len(solutions) == 0:\n",
        "                solutions.append(round(y.x[0], 8))\n",
        "\n",
        "    return solutions[0]\n",
        "\n",
        "\n",
        "A = []\n",
        "for i in range(N):\n",
        "    k = K[i]\n",
        "    m = B[i]\n",
        "    A.append(sin_x()) #нахождение абсцисс точек пересечения\n",
        "\n",
        "print(A, '\\n',\n",
        "      'A массив координат по оси ОХ пересечений 2х графиков при модуляции')\n",
        "\n",
        "U = [0]*N \n",
        "U_0 = A[1]\n",
        "for i in range(1, len(A)):\n",
        "    U[i] = abs(A[i] - A[i-1]) #нахождение отрезков между точками пересечений\n",
        "\n",
        "U_avg_pl = U_0 - U_0*U_c*2/(pi*U_t)\n",
        "U_avg_mn = U_0*U_c*2/(pi*U_t)\n",
        "\n",
        "print(U_0, 'U_0\\n', U_avg_pl, 'U Среднее +\\n', U_avg_mn, 'U Среднее -')\n",
        "\n",
        "k_1 = U_avg_pl/U_0\n",
        "k_2 = U_avg_mn/U_0\n",
        "\n",
        "y1 = [0, k_1/(k_1+k_2), k_1*1.5]\n",
        "y2 = [1, k_1/(k_1+k_2), 1-k_2*1.5]\n",
        "\n",
        "x = [0, 1/(k_1 + k_2)*pi/4, 1.5*pi/4]\n",
        "plt.plot(x, y1)\n",
        "plt.plot(x, y2)\n",
        "plt.show()"
      ],
      "metadata": {
        "colab": {
          "base_uri": "https://localhost:8080/",
          "height": 458
        },
        "id": "AhaXX-e74WsN",
        "outputId": "9a907598-f6cf-4da3-aa45-5f1c0abbce31"
      },
      "execution_count": null,
      "outputs": [
        {
          "output_type": "stream",
          "name": "stdout",
          "text": [
            "H_trap = 1.5\n",
            "l_trap (<pi/6) = 0.1\n",
            "U_c = 1\n",
            "[6.334475836028273, -6.334475836028273, 6.334475836028273, -6.334475836028273, 6.334475836028273, -6.334475836028273, 6.334475836028273, -6.334475836028273, 6.334475836028273, -6.334475836028273, 6.334475836028273, -6.334475836028273] \n",
            " [0, 3.316723791801414, -3.316723791801414, 6.633447583602828, -6.633447583602828, 9.950171375404242, -9.950171375404242, 13.266895167205655, -13.266895167205655, 16.58361895900707, -16.58361895900707, 19.900342750808484]\n",
            "[0.0, 0.45431908, 0.61463384, 0.92145945, 1.19398854, 1.41484588, 1.72674678, 1.94760412, 2.2201332, 2.52695881, 2.68727358, 3.14159265] \n",
            " A массив координат по оси ОХ пересечений 2х графиков при модуляции\n",
            "0.45431908 U_0\n",
            " 0.2799129325801932 U Среднее +\n",
            " 0.1744061474198068 U Среднее -\n"
          ]
        },
        {
          "output_type": "display_data",
          "data": {
            "image/png": "[encoded data removed]",
            "text/plain": [
              "<Figure size 432x288 with 1 Axes>"
            ]
          },
          "metadata": {
            "needs_background": "light"
          }
        }
      ]
    },
    {
      "cell_type": "code",
      "source": [
        "U = [0]*(N-1)\n",
        "\n",
        "for i in range(len(A)-1):\n",
        "    U[i] = abs(A[i] - A[i+1]) #нахождение отрезков между точками пересечений"
      ],
      "metadata": {
        "id": "6SEB12I8ADyT"
      },
      "execution_count": null,
      "outputs": []
    },
    {
      "cell_type": "code",
      "source": [
        "U_avg_plus=0\n",
        "U_avg_minus=0\n",
        "sum_plus=0\n",
        "sum_minus=0\n",
        "\n",
        "for i in range(len(U)):\n",
        "  if i%2==0:\n",
        "    sum_plus = sum_plus + (U[i]*U_0)\n",
        "  else:\n",
        "    sum_minus = sum_minus + (U[i]*U_0)\n",
        "\n",
        "U_avg_plus = sum_plus/6\n",
        "U_avg_minus = sum_minus/5"
      ],
      "metadata": {
        "id": "lxZzuziI5Nv0"
      },
      "execution_count": null,
      "outputs": []
    },
    {
      "cell_type": "code",
      "source": [
        "U_avg_plus, U_avg_minus"
      ],
      "metadata": {
        "colab": {
          "base_uri": "https://localhost:8080/"
        },
        "id": "mFDZmtQXBjyB",
        "outputId": "6fe8ddfe-2879-4753-8dd1-28c4f5420f38"
      },
      "execution_count": null,
      "outputs": [
        {
          "output_type": "execute_result",
          "data": {
            "text/plain": [
              "(0.19555094964074402, 0.29526352317722104)"
            ]
          },
          "metadata": {},
          "execution_count": 28
        }
      ]
    }
  ]
}